{
  "cells": [
    {
      "cell_type": "code",
      "execution_count": 681,
      "id": "6887d7f5",
      "metadata": {
        "id": "6887d7f5"
      },
      "outputs": [],
      "source": [
        "#Creating Multiple Linear Reg for prediting \"Rating\" - Cereal dataset\n",
        "# Importing necessary libraries\n",
        "import pandas as pd\n",
        "import numpy as np\n",
        "from tqdm import tqdm\n",
        "from sklearn.preprocessing import MinMaxScaler\n",
        "from sklearn.model_selection import train_test_split\n",
        "import seaborn as sns\n",
        "import matplotlib.pyplot as plt\n",
        "import random"
      ]
    },
    {
      "cell_type": "code",
      "execution_count": 682,
      "id": "c2ab9e54",
      "metadata": {
        "id": "c2ab9e54"
      },
      "outputs": [],
      "source": [
        "#Reading the CSV file and preprocessing\n",
        "cereal_file = pd.read_csv(\"cereal.csv\",sep = \";\")\n",
        "cereal_file = cereal_file.drop(0)"
      ]
    },
    {
      "cell_type": "code",
      "execution_count": 683,
      "id": "6f5d8a31",
      "metadata": {
        "colab": {
          "base_uri": "https://localhost:8080/",
          "height": 206
        },
        "id": "6f5d8a31",
        "outputId": "65f7737a-2ab7-4cec-f72d-e994d92dbcfd"
      },
      "outputs": [
        {
          "output_type": "execute_result",
          "data": {
            "text/plain": [
              "                        name mfr type calories protein fat sodium fiber carbo  \\\n",
              "1                  100% Bran   N    C       70       4   1    130    10     5   \n",
              "2          100% Natural Bran   Q    C      120       3   5     15     2     8   \n",
              "3                   All-Bran   K    C       70       4   1    260     9     7   \n",
              "4  All-Bran with Extra Fiber   K    C       50       4   0    140    14     8   \n",
              "5             Almond Delight   R    C      110       2   2    200     1    14   \n",
              "\n",
              "  sugars potass vitamins shelf weight  cups     rating  \n",
              "1      6    280       25     3      1  0.33  68.402973  \n",
              "2      8    135        0     3      1     1  33.983679  \n",
              "3      5    320       25     3      1  0.33  59.425505  \n",
              "4      0    330       25     3      1   0.5  93.704912  \n",
              "5      8     -1       25     3      1  0.75  34.384843  "
            ],
            "text/html": [
              "\n",
              "  <div id=\"df-11a9f8fd-7654-4614-bb49-7992faa53ce9\">\n",
              "    <div class=\"colab-df-container\">\n",
              "      <div>\n",
              "<style scoped>\n",
              "    .dataframe tbody tr th:only-of-type {\n",
              "        vertical-align: middle;\n",
              "    }\n",
              "\n",
              "    .dataframe tbody tr th {\n",
              "        vertical-align: top;\n",
              "    }\n",
              "\n",
              "    .dataframe thead th {\n",
              "        text-align: right;\n",
              "    }\n",
              "</style>\n",
              "<table border=\"1\" class=\"dataframe\">\n",
              "  <thead>\n",
              "    <tr style=\"text-align: right;\">\n",
              "      <th></th>\n",
              "      <th>name</th>\n",
              "      <th>mfr</th>\n",
              "      <th>type</th>\n",
              "      <th>calories</th>\n",
              "      <th>protein</th>\n",
              "      <th>fat</th>\n",
              "      <th>sodium</th>\n",
              "      <th>fiber</th>\n",
              "      <th>carbo</th>\n",
              "      <th>sugars</th>\n",
              "      <th>potass</th>\n",
              "      <th>vitamins</th>\n",
              "      <th>shelf</th>\n",
              "      <th>weight</th>\n",
              "      <th>cups</th>\n",
              "      <th>rating</th>\n",
              "    </tr>\n",
              "  </thead>\n",
              "  <tbody>\n",
              "    <tr>\n",
              "      <th>1</th>\n",
              "      <td>100% Bran</td>\n",
              "      <td>N</td>\n",
              "      <td>C</td>\n",
              "      <td>70</td>\n",
              "      <td>4</td>\n",
              "      <td>1</td>\n",
              "      <td>130</td>\n",
              "      <td>10</td>\n",
              "      <td>5</td>\n",
              "      <td>6</td>\n",
              "      <td>280</td>\n",
              "      <td>25</td>\n",
              "      <td>3</td>\n",
              "      <td>1</td>\n",
              "      <td>0.33</td>\n",
              "      <td>68.402973</td>\n",
              "    </tr>\n",
              "    <tr>\n",
              "      <th>2</th>\n",
              "      <td>100% Natural Bran</td>\n",
              "      <td>Q</td>\n",
              "      <td>C</td>\n",
              "      <td>120</td>\n",
              "      <td>3</td>\n",
              "      <td>5</td>\n",
              "      <td>15</td>\n",
              "      <td>2</td>\n",
              "      <td>8</td>\n",
              "      <td>8</td>\n",
              "      <td>135</td>\n",
              "      <td>0</td>\n",
              "      <td>3</td>\n",
              "      <td>1</td>\n",
              "      <td>1</td>\n",
              "      <td>33.983679</td>\n",
              "    </tr>\n",
              "    <tr>\n",
              "      <th>3</th>\n",
              "      <td>All-Bran</td>\n",
              "      <td>K</td>\n",
              "      <td>C</td>\n",
              "      <td>70</td>\n",
              "      <td>4</td>\n",
              "      <td>1</td>\n",
              "      <td>260</td>\n",
              "      <td>9</td>\n",
              "      <td>7</td>\n",
              "      <td>5</td>\n",
              "      <td>320</td>\n",
              "      <td>25</td>\n",
              "      <td>3</td>\n",
              "      <td>1</td>\n",
              "      <td>0.33</td>\n",
              "      <td>59.425505</td>\n",
              "    </tr>\n",
              "    <tr>\n",
              "      <th>4</th>\n",
              "      <td>All-Bran with Extra Fiber</td>\n",
              "      <td>K</td>\n",
              "      <td>C</td>\n",
              "      <td>50</td>\n",
              "      <td>4</td>\n",
              "      <td>0</td>\n",
              "      <td>140</td>\n",
              "      <td>14</td>\n",
              "      <td>8</td>\n",
              "      <td>0</td>\n",
              "      <td>330</td>\n",
              "      <td>25</td>\n",
              "      <td>3</td>\n",
              "      <td>1</td>\n",
              "      <td>0.5</td>\n",
              "      <td>93.704912</td>\n",
              "    </tr>\n",
              "    <tr>\n",
              "      <th>5</th>\n",
              "      <td>Almond Delight</td>\n",
              "      <td>R</td>\n",
              "      <td>C</td>\n",
              "      <td>110</td>\n",
              "      <td>2</td>\n",
              "      <td>2</td>\n",
              "      <td>200</td>\n",
              "      <td>1</td>\n",
              "      <td>14</td>\n",
              "      <td>8</td>\n",
              "      <td>-1</td>\n",
              "      <td>25</td>\n",
              "      <td>3</td>\n",
              "      <td>1</td>\n",
              "      <td>0.75</td>\n",
              "      <td>34.384843</td>\n",
              "    </tr>\n",
              "  </tbody>\n",
              "</table>\n",
              "</div>\n",
              "      <button class=\"colab-df-convert\" onclick=\"convertToInteractive('df-11a9f8fd-7654-4614-bb49-7992faa53ce9')\"\n",
              "              title=\"Convert this dataframe to an interactive table.\"\n",
              "              style=\"display:none;\">\n",
              "        \n",
              "  <svg xmlns=\"http://www.w3.org/2000/svg\" height=\"24px\"viewBox=\"0 0 24 24\"\n",
              "       width=\"24px\">\n",
              "    <path d=\"M0 0h24v24H0V0z\" fill=\"none\"/>\n",
              "    <path d=\"M18.56 5.44l.94 2.06.94-2.06 2.06-.94-2.06-.94-.94-2.06-.94 2.06-2.06.94zm-11 1L8.5 8.5l.94-2.06 2.06-.94-2.06-.94L8.5 2.5l-.94 2.06-2.06.94zm10 10l.94 2.06.94-2.06 2.06-.94-2.06-.94-.94-2.06-.94 2.06-2.06.94z\"/><path d=\"M17.41 7.96l-1.37-1.37c-.4-.4-.92-.59-1.43-.59-.52 0-1.04.2-1.43.59L10.3 9.45l-7.72 7.72c-.78.78-.78 2.05 0 2.83L4 21.41c.39.39.9.59 1.41.59.51 0 1.02-.2 1.41-.59l7.78-7.78 2.81-2.81c.8-.78.8-2.07 0-2.86zM5.41 20L4 18.59l7.72-7.72 1.47 1.35L5.41 20z\"/>\n",
              "  </svg>\n",
              "      </button>\n",
              "      \n",
              "  <style>\n",
              "    .colab-df-container {\n",
              "      display:flex;\n",
              "      flex-wrap:wrap;\n",
              "      gap: 12px;\n",
              "    }\n",
              "\n",
              "    .colab-df-convert {\n",
              "      background-color: #E8F0FE;\n",
              "      border: none;\n",
              "      border-radius: 50%;\n",
              "      cursor: pointer;\n",
              "      display: none;\n",
              "      fill: #1967D2;\n",
              "      height: 32px;\n",
              "      padding: 0 0 0 0;\n",
              "      width: 32px;\n",
              "    }\n",
              "\n",
              "    .colab-df-convert:hover {\n",
              "      background-color: #E2EBFA;\n",
              "      box-shadow: 0px 1px 2px rgba(60, 64, 67, 0.3), 0px 1px 3px 1px rgba(60, 64, 67, 0.15);\n",
              "      fill: #174EA6;\n",
              "    }\n",
              "\n",
              "    [theme=dark] .colab-df-convert {\n",
              "      background-color: #3B4455;\n",
              "      fill: #D2E3FC;\n",
              "    }\n",
              "\n",
              "    [theme=dark] .colab-df-convert:hover {\n",
              "      background-color: #434B5C;\n",
              "      box-shadow: 0px 1px 3px 1px rgba(0, 0, 0, 0.15);\n",
              "      filter: drop-shadow(0px 1px 2px rgba(0, 0, 0, 0.3));\n",
              "      fill: #FFFFFF;\n",
              "    }\n",
              "  </style>\n",
              "\n",
              "      <script>\n",
              "        const buttonEl =\n",
              "          document.querySelector('#df-11a9f8fd-7654-4614-bb49-7992faa53ce9 button.colab-df-convert');\n",
              "        buttonEl.style.display =\n",
              "          google.colab.kernel.accessAllowed ? 'block' : 'none';\n",
              "\n",
              "        async function convertToInteractive(key) {\n",
              "          const element = document.querySelector('#df-11a9f8fd-7654-4614-bb49-7992faa53ce9');\n",
              "          const dataTable =\n",
              "            await google.colab.kernel.invokeFunction('convertToInteractive',\n",
              "                                                     [key], {});\n",
              "          if (!dataTable) return;\n",
              "\n",
              "          const docLinkHtml = 'Like what you see? Visit the ' +\n",
              "            '<a target=\"_blank\" href=https://colab.research.google.com/notebooks/data_table.ipynb>data table notebook</a>'\n",
              "            + ' to learn more about interactive tables.';\n",
              "          element.innerHTML = '';\n",
              "          dataTable['output_type'] = 'display_data';\n",
              "          await google.colab.output.renderOutput(dataTable, element);\n",
              "          const docLink = document.createElement('div');\n",
              "          docLink.innerHTML = docLinkHtml;\n",
              "          element.appendChild(docLink);\n",
              "        }\n",
              "      </script>\n",
              "    </div>\n",
              "  </div>\n",
              "  "
            ]
          },
          "metadata": {},
          "execution_count": 683
        }
      ],
      "source": [
        "cereal_file.head()"
      ]
    },
    {
      "cell_type": "code",
      "source": [
        "type = ['type']\n",
        "def binary_map(x):\n",
        "    return x.map({'H': 1, \"C\": 0})\n",
        "cereal_file[type] = cereal_file[type].apply(binary_map)"
      ],
      "metadata": {
        "id": "yRY0InKmvWS1"
      },
      "id": "yRY0InKmvWS1",
      "execution_count": 684,
      "outputs": []
    },
    {
      "cell_type": "code",
      "source": [
        "#replacing text entries with dummies\n",
        "\n",
        "mfr_file = pd.get_dummies(cereal_file['mfr'])\n",
        "cereal_file = pd.concat([cereal_file, mfr_file], axis = 1)\n",
        "cereal_file.drop(['mfr'],axis = 1,inplace=True)\n",
        "cereal_file.drop(['name'],axis = 1,inplace=True)\n",
        "cereal_file"
      ],
      "metadata": {
        "colab": {
          "base_uri": "https://localhost:8080/",
          "height": 424
        },
        "id": "DsMwdG-taBhf",
        "outputId": "ccdad4f1-a81a-46a5-c6ec-8edc2fd89fcf"
      },
      "id": "DsMwdG-taBhf",
      "execution_count": 685,
      "outputs": [
        {
          "output_type": "execute_result",
          "data": {
            "text/plain": [
              "    type calories protein fat sodium fiber carbo sugars potass vitamins  ...  \\\n",
              "1      0       70       4   1    130    10     5      6    280       25  ...   \n",
              "2      0      120       3   5     15     2     8      8    135        0  ...   \n",
              "3      0       70       4   1    260     9     7      5    320       25  ...   \n",
              "4      0       50       4   0    140    14     8      0    330       25  ...   \n",
              "5      0      110       2   2    200     1    14      8     -1       25  ...   \n",
              "..   ...      ...     ...  ..    ...   ...   ...    ...    ...      ...  ...   \n",
              "73     0      110       2   1    250     0    21      3     60       25  ...   \n",
              "74     0      110       1   1    140     0    13     12     25       25  ...   \n",
              "75     0      100       3   1    230     3    17      3    115       25  ...   \n",
              "76     0      100       3   1    200     3    17      3    110       25  ...   \n",
              "77     0      110       2   1    200     1    16      8     60       25  ...   \n",
              "\n",
              "   weight  cups     rating  A  G  K  N  P  Q  R  \n",
              "1       1  0.33  68.402973  0  0  0  1  0  0  0  \n",
              "2       1     1  33.983679  0  0  0  0  0  1  0  \n",
              "3       1  0.33  59.425505  0  0  1  0  0  0  0  \n",
              "4       1   0.5  93.704912  0  0  1  0  0  0  0  \n",
              "5       1  0.75  34.384843  0  0  0  0  0  0  1  \n",
              "..    ...   ...        ... .. .. .. .. .. .. ..  \n",
              "73      1  0.75  39.106174  0  1  0  0  0  0  0  \n",
              "74      1     1  27.753301  0  1  0  0  0  0  0  \n",
              "75      1  0.67  49.787445  0  0  0  0  0  0  1  \n",
              "76      1     1  51.592193  0  1  0  0  0  0  0  \n",
              "77      1  0.75  36.187559  0  1  0  0  0  0  0  \n",
              "\n",
              "[77 rows x 21 columns]"
            ],
            "text/html": [
              "\n",
              "  <div id=\"df-712cfec3-9b5c-4a50-876b-05094a48972c\">\n",
              "    <div class=\"colab-df-container\">\n",
              "      <div>\n",
              "<style scoped>\n",
              "    .dataframe tbody tr th:only-of-type {\n",
              "        vertical-align: middle;\n",
              "    }\n",
              "\n",
              "    .dataframe tbody tr th {\n",
              "        vertical-align: top;\n",
              "    }\n",
              "\n",
              "    .dataframe thead th {\n",
              "        text-align: right;\n",
              "    }\n",
              "</style>\n",
              "<table border=\"1\" class=\"dataframe\">\n",
              "  <thead>\n",
              "    <tr style=\"text-align: right;\">\n",
              "      <th></th>\n",
              "      <th>type</th>\n",
              "      <th>calories</th>\n",
              "      <th>protein</th>\n",
              "      <th>fat</th>\n",
              "      <th>sodium</th>\n",
              "      <th>fiber</th>\n",
              "      <th>carbo</th>\n",
              "      <th>sugars</th>\n",
              "      <th>potass</th>\n",
              "      <th>vitamins</th>\n",
              "      <th>...</th>\n",
              "      <th>weight</th>\n",
              "      <th>cups</th>\n",
              "      <th>rating</th>\n",
              "      <th>A</th>\n",
              "      <th>G</th>\n",
              "      <th>K</th>\n",
              "      <th>N</th>\n",
              "      <th>P</th>\n",
              "      <th>Q</th>\n",
              "      <th>R</th>\n",
              "    </tr>\n",
              "  </thead>\n",
              "  <tbody>\n",
              "    <tr>\n",
              "      <th>1</th>\n",
              "      <td>0</td>\n",
              "      <td>70</td>\n",
              "      <td>4</td>\n",
              "      <td>1</td>\n",
              "      <td>130</td>\n",
              "      <td>10</td>\n",
              "      <td>5</td>\n",
              "      <td>6</td>\n",
              "      <td>280</td>\n",
              "      <td>25</td>\n",
              "      <td>...</td>\n",
              "      <td>1</td>\n",
              "      <td>0.33</td>\n",
              "      <td>68.402973</td>\n",
              "      <td>0</td>\n",
              "      <td>0</td>\n",
              "      <td>0</td>\n",
              "      <td>1</td>\n",
              "      <td>0</td>\n",
              "      <td>0</td>\n",
              "      <td>0</td>\n",
              "    </tr>\n",
              "    <tr>\n",
              "      <th>2</th>\n",
              "      <td>0</td>\n",
              "      <td>120</td>\n",
              "      <td>3</td>\n",
              "      <td>5</td>\n",
              "      <td>15</td>\n",
              "      <td>2</td>\n",
              "      <td>8</td>\n",
              "      <td>8</td>\n",
              "      <td>135</td>\n",
              "      <td>0</td>\n",
              "      <td>...</td>\n",
              "      <td>1</td>\n",
              "      <td>1</td>\n",
              "      <td>33.983679</td>\n",
              "      <td>0</td>\n",
              "      <td>0</td>\n",
              "      <td>0</td>\n",
              "      <td>0</td>\n",
              "      <td>0</td>\n",
              "      <td>1</td>\n",
              "      <td>0</td>\n",
              "    </tr>\n",
              "    <tr>\n",
              "      <th>3</th>\n",
              "      <td>0</td>\n",
              "      <td>70</td>\n",
              "      <td>4</td>\n",
              "      <td>1</td>\n",
              "      <td>260</td>\n",
              "      <td>9</td>\n",
              "      <td>7</td>\n",
              "      <td>5</td>\n",
              "      <td>320</td>\n",
              "      <td>25</td>\n",
              "      <td>...</td>\n",
              "      <td>1</td>\n",
              "      <td>0.33</td>\n",
              "      <td>59.425505</td>\n",
              "      <td>0</td>\n",
              "      <td>0</td>\n",
              "      <td>1</td>\n",
              "      <td>0</td>\n",
              "      <td>0</td>\n",
              "      <td>0</td>\n",
              "      <td>0</td>\n",
              "    </tr>\n",
              "    <tr>\n",
              "      <th>4</th>\n",
              "      <td>0</td>\n",
              "      <td>50</td>\n",
              "      <td>4</td>\n",
              "      <td>0</td>\n",
              "      <td>140</td>\n",
              "      <td>14</td>\n",
              "      <td>8</td>\n",
              "      <td>0</td>\n",
              "      <td>330</td>\n",
              "      <td>25</td>\n",
              "      <td>...</td>\n",
              "      <td>1</td>\n",
              "      <td>0.5</td>\n",
              "      <td>93.704912</td>\n",
              "      <td>0</td>\n",
              "      <td>0</td>\n",
              "      <td>1</td>\n",
              "      <td>0</td>\n",
              "      <td>0</td>\n",
              "      <td>0</td>\n",
              "      <td>0</td>\n",
              "    </tr>\n",
              "    <tr>\n",
              "      <th>5</th>\n",
              "      <td>0</td>\n",
              "      <td>110</td>\n",
              "      <td>2</td>\n",
              "      <td>2</td>\n",
              "      <td>200</td>\n",
              "      <td>1</td>\n",
              "      <td>14</td>\n",
              "      <td>8</td>\n",
              "      <td>-1</td>\n",
              "      <td>25</td>\n",
              "      <td>...</td>\n",
              "      <td>1</td>\n",
              "      <td>0.75</td>\n",
              "      <td>34.384843</td>\n",
              "      <td>0</td>\n",
              "      <td>0</td>\n",
              "      <td>0</td>\n",
              "      <td>0</td>\n",
              "      <td>0</td>\n",
              "      <td>0</td>\n",
              "      <td>1</td>\n",
              "    </tr>\n",
              "    <tr>\n",
              "      <th>...</th>\n",
              "      <td>...</td>\n",
              "      <td>...</td>\n",
              "      <td>...</td>\n",
              "      <td>...</td>\n",
              "      <td>...</td>\n",
              "      <td>...</td>\n",
              "      <td>...</td>\n",
              "      <td>...</td>\n",
              "      <td>...</td>\n",
              "      <td>...</td>\n",
              "      <td>...</td>\n",
              "      <td>...</td>\n",
              "      <td>...</td>\n",
              "      <td>...</td>\n",
              "      <td>...</td>\n",
              "      <td>...</td>\n",
              "      <td>...</td>\n",
              "      <td>...</td>\n",
              "      <td>...</td>\n",
              "      <td>...</td>\n",
              "      <td>...</td>\n",
              "    </tr>\n",
              "    <tr>\n",
              "      <th>73</th>\n",
              "      <td>0</td>\n",
              "      <td>110</td>\n",
              "      <td>2</td>\n",
              "      <td>1</td>\n",
              "      <td>250</td>\n",
              "      <td>0</td>\n",
              "      <td>21</td>\n",
              "      <td>3</td>\n",
              "      <td>60</td>\n",
              "      <td>25</td>\n",
              "      <td>...</td>\n",
              "      <td>1</td>\n",
              "      <td>0.75</td>\n",
              "      <td>39.106174</td>\n",
              "      <td>0</td>\n",
              "      <td>1</td>\n",
              "      <td>0</td>\n",
              "      <td>0</td>\n",
              "      <td>0</td>\n",
              "      <td>0</td>\n",
              "      <td>0</td>\n",
              "    </tr>\n",
              "    <tr>\n",
              "      <th>74</th>\n",
              "      <td>0</td>\n",
              "      <td>110</td>\n",
              "      <td>1</td>\n",
              "      <td>1</td>\n",
              "      <td>140</td>\n",
              "      <td>0</td>\n",
              "      <td>13</td>\n",
              "      <td>12</td>\n",
              "      <td>25</td>\n",
              "      <td>25</td>\n",
              "      <td>...</td>\n",
              "      <td>1</td>\n",
              "      <td>1</td>\n",
              "      <td>27.753301</td>\n",
              "      <td>0</td>\n",
              "      <td>1</td>\n",
              "      <td>0</td>\n",
              "      <td>0</td>\n",
              "      <td>0</td>\n",
              "      <td>0</td>\n",
              "      <td>0</td>\n",
              "    </tr>\n",
              "    <tr>\n",
              "      <th>75</th>\n",
              "      <td>0</td>\n",
              "      <td>100</td>\n",
              "      <td>3</td>\n",
              "      <td>1</td>\n",
              "      <td>230</td>\n",
              "      <td>3</td>\n",
              "      <td>17</td>\n",
              "      <td>3</td>\n",
              "      <td>115</td>\n",
              "      <td>25</td>\n",
              "      <td>...</td>\n",
              "      <td>1</td>\n",
              "      <td>0.67</td>\n",
              "      <td>49.787445</td>\n",
              "      <td>0</td>\n",
              "      <td>0</td>\n",
              "      <td>0</td>\n",
              "      <td>0</td>\n",
              "      <td>0</td>\n",
              "      <td>0</td>\n",
              "      <td>1</td>\n",
              "    </tr>\n",
              "    <tr>\n",
              "      <th>76</th>\n",
              "      <td>0</td>\n",
              "      <td>100</td>\n",
              "      <td>3</td>\n",
              "      <td>1</td>\n",
              "      <td>200</td>\n",
              "      <td>3</td>\n",
              "      <td>17</td>\n",
              "      <td>3</td>\n",
              "      <td>110</td>\n",
              "      <td>25</td>\n",
              "      <td>...</td>\n",
              "      <td>1</td>\n",
              "      <td>1</td>\n",
              "      <td>51.592193</td>\n",
              "      <td>0</td>\n",
              "      <td>1</td>\n",
              "      <td>0</td>\n",
              "      <td>0</td>\n",
              "      <td>0</td>\n",
              "      <td>0</td>\n",
              "      <td>0</td>\n",
              "    </tr>\n",
              "    <tr>\n",
              "      <th>77</th>\n",
              "      <td>0</td>\n",
              "      <td>110</td>\n",
              "      <td>2</td>\n",
              "      <td>1</td>\n",
              "      <td>200</td>\n",
              "      <td>1</td>\n",
              "      <td>16</td>\n",
              "      <td>8</td>\n",
              "      <td>60</td>\n",
              "      <td>25</td>\n",
              "      <td>...</td>\n",
              "      <td>1</td>\n",
              "      <td>0.75</td>\n",
              "      <td>36.187559</td>\n",
              "      <td>0</td>\n",
              "      <td>1</td>\n",
              "      <td>0</td>\n",
              "      <td>0</td>\n",
              "      <td>0</td>\n",
              "      <td>0</td>\n",
              "      <td>0</td>\n",
              "    </tr>\n",
              "  </tbody>\n",
              "</table>\n",
              "<p>77 rows × 21 columns</p>\n",
              "</div>\n",
              "      <button class=\"colab-df-convert\" onclick=\"convertToInteractive('df-712cfec3-9b5c-4a50-876b-05094a48972c')\"\n",
              "              title=\"Convert this dataframe to an interactive table.\"\n",
              "              style=\"display:none;\">\n",
              "        \n",
              "  <svg xmlns=\"http://www.w3.org/2000/svg\" height=\"24px\"viewBox=\"0 0 24 24\"\n",
              "       width=\"24px\">\n",
              "    <path d=\"M0 0h24v24H0V0z\" fill=\"none\"/>\n",
              "    <path d=\"M18.56 5.44l.94 2.06.94-2.06 2.06-.94-2.06-.94-.94-2.06-.94 2.06-2.06.94zm-11 1L8.5 8.5l.94-2.06 2.06-.94-2.06-.94L8.5 2.5l-.94 2.06-2.06.94zm10 10l.94 2.06.94-2.06 2.06-.94-2.06-.94-.94-2.06-.94 2.06-2.06.94z\"/><path d=\"M17.41 7.96l-1.37-1.37c-.4-.4-.92-.59-1.43-.59-.52 0-1.04.2-1.43.59L10.3 9.45l-7.72 7.72c-.78.78-.78 2.05 0 2.83L4 21.41c.39.39.9.59 1.41.59.51 0 1.02-.2 1.41-.59l7.78-7.78 2.81-2.81c.8-.78.8-2.07 0-2.86zM5.41 20L4 18.59l7.72-7.72 1.47 1.35L5.41 20z\"/>\n",
              "  </svg>\n",
              "      </button>\n",
              "      \n",
              "  <style>\n",
              "    .colab-df-container {\n",
              "      display:flex;\n",
              "      flex-wrap:wrap;\n",
              "      gap: 12px;\n",
              "    }\n",
              "\n",
              "    .colab-df-convert {\n",
              "      background-color: #E8F0FE;\n",
              "      border: none;\n",
              "      border-radius: 50%;\n",
              "      cursor: pointer;\n",
              "      display: none;\n",
              "      fill: #1967D2;\n",
              "      height: 32px;\n",
              "      padding: 0 0 0 0;\n",
              "      width: 32px;\n",
              "    }\n",
              "\n",
              "    .colab-df-convert:hover {\n",
              "      background-color: #E2EBFA;\n",
              "      box-shadow: 0px 1px 2px rgba(60, 64, 67, 0.3), 0px 1px 3px 1px rgba(60, 64, 67, 0.15);\n",
              "      fill: #174EA6;\n",
              "    }\n",
              "\n",
              "    [theme=dark] .colab-df-convert {\n",
              "      background-color: #3B4455;\n",
              "      fill: #D2E3FC;\n",
              "    }\n",
              "\n",
              "    [theme=dark] .colab-df-convert:hover {\n",
              "      background-color: #434B5C;\n",
              "      box-shadow: 0px 1px 3px 1px rgba(0, 0, 0, 0.15);\n",
              "      filter: drop-shadow(0px 1px 2px rgba(0, 0, 0, 0.3));\n",
              "      fill: #FFFFFF;\n",
              "    }\n",
              "  </style>\n",
              "\n",
              "      <script>\n",
              "        const buttonEl =\n",
              "          document.querySelector('#df-712cfec3-9b5c-4a50-876b-05094a48972c button.colab-df-convert');\n",
              "        buttonEl.style.display =\n",
              "          google.colab.kernel.accessAllowed ? 'block' : 'none';\n",
              "\n",
              "        async function convertToInteractive(key) {\n",
              "          const element = document.querySelector('#df-712cfec3-9b5c-4a50-876b-05094a48972c');\n",
              "          const dataTable =\n",
              "            await google.colab.kernel.invokeFunction('convertToInteractive',\n",
              "                                                     [key], {});\n",
              "          if (!dataTable) return;\n",
              "\n",
              "          const docLinkHtml = 'Like what you see? Visit the ' +\n",
              "            '<a target=\"_blank\" href=https://colab.research.google.com/notebooks/data_table.ipynb>data table notebook</a>'\n",
              "            + ' to learn more about interactive tables.';\n",
              "          element.innerHTML = '';\n",
              "          dataTable['output_type'] = 'display_data';\n",
              "          await google.colab.output.renderOutput(dataTable, element);\n",
              "          const docLink = document.createElement('div');\n",
              "          docLink.innerHTML = docLinkHtml;\n",
              "          element.appendChild(docLink);\n",
              "        }\n",
              "      </script>\n",
              "    </div>\n",
              "  </div>\n",
              "  "
            ]
          },
          "metadata": {},
          "execution_count": 685
        }
      ]
    },
    {
      "cell_type": "code",
      "execution_count": 686,
      "id": "afb1518f",
      "metadata": {
        "id": "afb1518f"
      },
      "outputs": [],
      "source": [
        "#categorizing the data for training and test\n",
        "np.random.seed(0)\n",
        "df_train, df_test = train_test_split(cereal_file, train_size = 0.8, test_size = 0.2, random_state = 50)\n",
        "scaler = MinMaxScaler()\n",
        "num_vars = ['type','calories','protein','fat','sodium','fiber','carbo','sugars','potass','vitamins','shelf','weight','cups','rating','A','G','K','N','P','Q','R']\n",
        "df_train[num_vars] = scaler.fit_transform(df_train[num_vars])"
      ]
    },
    {
      "cell_type": "code",
      "execution_count": 687,
      "id": "db3401ec",
      "metadata": {
        "id": "db3401ec"
      },
      "outputs": [],
      "source": [
        "#trained data into X and Y\n",
        "y_train = df_train.pop('rating')\n",
        "X_train = df_train"
      ]
    },
    {
      "cell_type": "code",
      "execution_count": 688,
      "id": "c68132ea",
      "metadata": {
        "colab": {
          "base_uri": "https://localhost:8080/"
        },
        "id": "c68132ea",
        "outputId": "f6ce2f5a-7577-4574-e0d0-ed1f3399cebb"
      },
      "outputs": [
        {
          "output_type": "stream",
          "name": "stdout",
          "text": [
            "\n",
            "\n",
            "The Score for multiple linear regression model is :  0.9999999999999997\n"
          ]
        }
      ],
      "source": [
        "from sklearn.feature_selection import RFE\n",
        "from sklearn.linear_model import LinearRegression\n",
        "scores = []\n",
        "model = LinearRegression()\n",
        "model.fit(X_train, y_train)\n",
        "score = model.score(X_train, y_train)\n",
        "scores.append(score)\n",
        "print('\\n\\nThe Score for multiple linear regression model is : ',score)"
      ]
    },
    {
      "cell_type": "code",
      "source": [
        "X_train = df_train[['calories','protein','fat','sodium','fiber','carbo','sugars','potass','vitamins','cups']]"
      ],
      "metadata": {
        "id": "VCXzb4F1t8M0"
      },
      "id": "VCXzb4F1t8M0",
      "execution_count": 689,
      "outputs": []
    },
    {
      "cell_type": "code",
      "source": [
        "#trained data modeling\n",
        "import statsmodels.api as sm\n",
        "X_train_lm = sm.add_constant(X_train)\n",
        "lr_1 = sm.OLS(y_train.astype(float), X_train_lm.astype(float)).fit()"
      ],
      "metadata": {
        "colab": {
          "base_uri": "https://localhost:8080/"
        },
        "id": "nc4bwqLvt-Md",
        "outputId": "3357a671-9fe4-4f12-b952-73d26977840b"
      },
      "id": "nc4bwqLvt-Md",
      "execution_count": 690,
      "outputs": [
        {
          "output_type": "stream",
          "name": "stderr",
          "text": [
            "/usr/local/lib/python3.7/dist-packages/statsmodels/tsa/tsatools.py:142: FutureWarning: In a future version of pandas all arguments of concat except for the argument 'objs' will be keyword-only\n",
            "  x = pd.concat(x[::order], 1)\n"
          ]
        }
      ]
    },
    {
      "cell_type": "code",
      "source": [
        "# scaling\n",
        "num_vars = ['type','calories','protein','fat','sodium','fiber','carbo','sugars','potass','vitamins','shelf','weight','cups','rating','A','G','K','N','P','Q','R']\n",
        "df_test[num_vars] = scaler.transform(df_test[num_vars])"
      ],
      "metadata": {
        "id": "j34Rm62FuHuX"
      },
      "id": "j34Rm62FuHuX",
      "execution_count": 691,
      "outputs": []
    },
    {
      "cell_type": "code",
      "source": [
        "#test data as X and Y\n",
        "y_test = df_test.pop('rating')\n",
        "X_test = df_test[['calories','protein','fat','sodium','fiber','carbo','sugars','potass','vitamins','cups']]"
      ],
      "metadata": {
        "id": "5c7gxEsY3Mu6"
      },
      "id": "5c7gxEsY3Mu6",
      "execution_count": 692,
      "outputs": []
    },
    {
      "cell_type": "code",
      "source": [
        "X_test_m1 = sm.add_constant(X_test)\n",
        "y_pred_m1 = lr_1.predict(X_test_m1)"
      ],
      "metadata": {
        "colab": {
          "base_uri": "https://localhost:8080/"
        },
        "id": "i4VzSHSd3Q1k",
        "outputId": "5dd6e9ed-989f-40b2-de92-e0407b0eee27"
      },
      "id": "i4VzSHSd3Q1k",
      "execution_count": 693,
      "outputs": [
        {
          "output_type": "stream",
          "name": "stderr",
          "text": [
            "/usr/local/lib/python3.7/dist-packages/statsmodels/tsa/tsatools.py:142: FutureWarning: In a future version of pandas all arguments of concat except for the argument 'objs' will be keyword-only\n",
            "  x = pd.concat(x[::order], 1)\n"
          ]
        }
      ]
    },
    {
      "cell_type": "markdown",
      "source": [
        "***Write a python function using the numpy library functions that finds the optimal Beta vector (coefficients) that minimizes the residual sum of squares in linear regression***"
      ],
      "metadata": {
        "id": "U8MTvpiYO4F4"
      },
      "id": "U8MTvpiYO4F4"
    },
    {
      "cell_type": "code",
      "source": [
        "#calculating beta values \n",
        "def estimate_coef_multiple_linear_regression(X, y):\n",
        "    beta = np.dot((np.linalg.inv(np.dot(X.T,X))), np.dot(X.T,y))\n",
        "    return beta"
      ],
      "metadata": {
        "id": "4zVhm0FD3T7_"
      },
      "id": "4zVhm0FD3T7_",
      "execution_count": 694,
      "outputs": []
    },
    {
      "cell_type": "code",
      "source": [
        "# calling the function \n",
        "beta = estimate_coef_multiple_linear_regression(X_train, y_train)\n",
        "beta"
      ],
      "metadata": {
        "colab": {
          "base_uri": "https://localhost:8080/"
        },
        "id": "TzekSz9W3XDI",
        "outputId": "cf2128c8-8fa0-41ab-df01-3bf158be1b49"
      },
      "id": "TzekSz9W3XDI",
      "execution_count": 695,
      "outputs": [
        {
          "output_type": "execute_result",
          "data": {
            "text/plain": [
              "array([-0.5290668 ,  0.3536661 ,  0.06236449, -0.23897748,  0.87662653,\n",
              "        0.73653164,  0.07749175, -0.23343537, -0.1065257 ,  0.11443061])"
            ]
          },
          "metadata": {},
          "execution_count": 695
        }
      ]
    },
    {
      "cell_type": "markdown",
      "source": [
        "***Calculate the same linear regression model using the function you developed at step 2 and compare the results with the numbers from step 1 ***\n",
        "\n"
      ],
      "metadata": {
        "id": "ZQkeUfRWh2pa"
      },
      "id": "ZQkeUfRWh2pa"
    },
    {
      "cell_type": "code",
      "execution_count": 696,
      "id": "aba3ac18",
      "metadata": {
        "id": "aba3ac18"
      },
      "outputs": [],
      "source": [
        "# predicting on the test data with the new coefficient\n",
        "def manual_predict(X_test, beta):\n",
        "    return np.dot(X_test, beta)"
      ]
    },
    {
      "cell_type": "code",
      "source": [
        "#value prediction with test data\n",
        "manual_predictions = manual_predict(X_test, beta)\n",
        "manual_predictions"
      ],
      "metadata": {
        "colab": {
          "base_uri": "https://localhost:8080/"
        },
        "id": "GNYvGfO93fbG",
        "outputId": "b763d4f3-087a-4575-8d9f-75b3460f1872"
      },
      "id": "GNYvGfO93fbG",
      "execution_count": 697,
      "outputs": [
        {
          "output_type": "execute_result",
          "data": {
            "text/plain": [
              "array([0.28943389, 0.21969121, 0.75717229, 0.3794705 , 0.36020892,\n",
              "       0.64179902, 0.14511618, 0.42435126, 0.5723039 , 0.03780099,\n",
              "       0.41037953, 0.29342804, 0.33414718, 0.31045615, 0.41354987,\n",
              "       0.26108304])"
            ]
          },
          "metadata": {},
          "execution_count": 697
        }
      ]
    },
    {
      "cell_type": "code",
      "source": [
        "def res_sum_square(y_hat, y):\n",
        "    rss = np.sum(np.square((y_hat- y)))\n",
        "    return rss\n",
        "    \n",
        "manual_rss = res_sum_square(y_test,manual_predictions)\n",
        "reported_rss = res_sum_square(y_test,y_pred_m1)\n",
        "print(manual_rss)\n",
        "print(reported_rss)"
      ],
      "metadata": {
        "colab": {
          "base_uri": "https://localhost:8080/"
        },
        "id": "PBi_fNNn3j22",
        "outputId": "9d7aaae9-2111-4c3a-8efa-25a7a40da370"
      },
      "id": "PBi_fNNn3j22",
      "execution_count": 698,
      "outputs": [
        {
          "output_type": "stream",
          "name": "stdout",
          "text": [
            "0.03548503946771031\n",
            "3.703017431551833e-16\n"
          ]
        }
      ]
    },
    {
      "cell_type": "markdown",
      "source": [
        "***Write a function to calculate the r-squared: def r_squared(y_hat, y)***"
      ],
      "metadata": {
        "id": "09fI_YUqOtaa"
      },
      "id": "09fI_YUqOtaa"
    },
    {
      "cell_type": "code",
      "execution_count": 699,
      "id": "6db94064",
      "metadata": {
        "id": "6db94064"
      },
      "outputs": [],
      "source": [
        "def r_squa(y_hat, y):\n",
        "    rss = np.sum(np.square((y_hat- y)))\n",
        "    mean = np.mean(y_hat)\n",
        "    sst = np.sum(np.square(y_hat-mean))\n",
        "    r_square = 1 - (rss/sst)\n",
        "    return r_square"
      ]
    },
    {
      "cell_type": "markdown",
      "source": [
        "***Use the function in step 4 to calculate the R-squared of the model you created at step 3 and compare the number to the R-squared reported by the python statsmodel or sklearn***"
      ],
      "metadata": {
        "id": "F6nKRja4PB_X"
      },
      "id": "F6nKRja4PB_X"
    },
    {
      "cell_type": "code",
      "execution_count": 700,
      "id": "b91b91e5",
      "metadata": {
        "colab": {
          "base_uri": "https://localhost:8080/"
        },
        "id": "b91b91e5",
        "outputId": "4a089696-4e36-4175-f65a-093219fcc49c"
      },
      "outputs": [
        {
          "output_type": "stream",
          "name": "stdout",
          "text": [
            "0.9255325183857698\n",
            "0.9999999999999992\n"
          ]
        }
      ],
      "source": [
        "manual_model = r_squa(y_test,manual_predictions)\n",
        "reported_model = r_squa(y_test,y_pred_m1)\n",
        "print(manual_model)\n",
        "print(reported_model)"
      ]
    }
  ],
  "metadata": {
    "kernelspec": {
      "display_name": "Python 3 (ipykernel)",
      "language": "python",
      "name": "python3"
    },
    "language_info": {
      "codemirror_mode": {
        "name": "ipython",
        "version": 3
      },
      "file_extension": ".py",
      "mimetype": "text/x-python",
      "name": "python",
      "nbconvert_exporter": "python",
      "pygments_lexer": "ipython3",
      "version": "3.9.7"
    },
    "colab": {
      "provenance": [],
      "collapsed_sections": []
    }
  },
  "nbformat": 4,
  "nbformat_minor": 5
}